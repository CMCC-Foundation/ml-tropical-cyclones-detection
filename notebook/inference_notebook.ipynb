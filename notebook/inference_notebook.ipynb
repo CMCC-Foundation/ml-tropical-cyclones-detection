{
 "cells": [
  {
   "cell_type": "markdown",
   "metadata": {},
   "source": [
    "# Notebook to evaluate and run a pre-trained model from ML TC detection & tracking\n",
    "\n",
    "First import relevant libraries to run the inference and define common info"
   ]
  },
  {
   "cell_type": "code",
   "execution_count": null,
   "metadata": {
    "tags": []
   },
   "outputs": [],
   "source": [
    "import sys\n",
    "import warnings\n",
    "warnings.filterwarnings('ignore')\n",
    "\n",
    "sys.path.append('../resources/library')\n",
    "from tropical_cyclone.inference import SingleModelInference, get_observations, get_observed_tracks\n",
    "from tropical_cyclone.mlflow import load_model_from_mlflow, set_mlflow_endpoint, check_backend\n",
    "from tropical_cyclone.visualize import plot_detections, plot_tracks, plot_track_durations, plot_pod_and_far\n",
    "from tropical_cyclone.cyclone import compute_pod_and_far\n",
    "from tropical_cyclone.models import *"
   ]
  },
  {
   "cell_type": "code",
   "execution_count": null,
   "metadata": {
    "tags": []
   },
   "outputs": [],
   "source": [
    "main_dir = '/home/jovyan/work/ml-tropical-cyclones-detection/'\n",
    "\n",
    "# path to dataset directory (if CMIP6 data must be in the proper grid format)\n",
    "dataset_dir = f'{main_dir}/data/dataset'\n",
    "# path to IBTrACS file to match ML model detections\n",
    "ibtracs_src = f'{main_dir}/data/ibtracs/filtered/ibtracs_main-tracks_6h_1980-2021_TS-NR-ET-MX-SS-DS.csv'\n",
    "# path to configutation file for the model\n",
    "config_file = f'{main_dir}src/config/cnns.toml'\n",
    "\n",
    "# define lat and lon ranges\n",
    "lat_range = (0,70)\n",
    "lon_range = (100,280)"
   ]
  },
  {
   "cell_type": "markdown",
   "metadata": {},
   "source": [
    "Select the model by specfying the run name from the MLFlow and download model, scaler and provenance document"
   ]
  },
  {
   "cell_type": "code",
   "execution_count": null,
   "metadata": {
    "tags": []
   },
   "outputs": [],
   "source": [
    "set_mlflow_endpoint(config_file)\n",
    "run_name=input()\n",
    "registered_model, path = load_model_from_mlflow(run_name, scaler=False, provenance=False)\n",
    "registered_model "
   ]
  },
  {
   "cell_type": "markdown",
   "metadata": {},
   "source": [
    "Load the ML model"
   ]
  },
  {
   "cell_type": "code",
   "execution_count": null,
   "metadata": {
    "tags": []
   },
   "outputs": [],
   "source": [
    "device = check_backend()\n",
    "inference = SingleModelInference(model=registered_model, config_file=config_file, device=device)"
   ]
  },
  {
   "cell_type": "markdown",
   "metadata": {},
   "source": [
    "## Inference workflow on historical data\n",
    "\n",
    "Let's get the data on a given time frame (year and month) for the evaluation"
   ]
  },
  {
   "cell_type": "code",
   "execution_count": null,
   "metadata": {
    "tags": []
   },
   "outputs": [],
   "source": [
    "import ipywidgets as widgets\n",
    "\n",
    "month = widgets.Dropdown(\n",
    "    options=[('Jan', '01'), ('Feb', '02'), ('Mar', '03'),\n",
    "             ('Apr', '04'), ('May', '05'), ('Jun', '06'),\n",
    "             ('Jul', '07'), ('Aug', '08'), ('Sep', '09'),\n",
    "             ('Oct', '10'), ('Nov', '11'), ('Dec', '12'),\n",
    "             ('ALL', None)\n",
    "            ], value='08', description='Month:', disabled=False,)\n",
    "\n",
    "year = widgets.IntSlider(\n",
    "    value=2014, min=1980, max=2021, step=1,\n",
    "    description='Year:',\n",
    "    disabled=False,\n",
    "    continuous_update=False,\n",
    "    orientation='horizontal',\n",
    "    readout=True,\n",
    "    readout_format='d'\n",
    ")\n",
    "\n",
    "display(widgets.HBox([year, month]))"
   ]
  },
  {
   "cell_type": "code",
   "execution_count": null,
   "metadata": {
    "tags": []
   },
   "outputs": [],
   "source": [
    "ds, dates = inference.load_dataset(dataset_dir=dataset_dir, year=year.value, month=month.value)"
   ]
  },
  {
   "cell_type": "markdown",
   "metadata": {},
   "source": [
    "We can now detect and localize the TC centers with the ML model and load also the observed TCs"
   ]
  },
  {
   "cell_type": "code",
   "execution_count": null,
   "metadata": {
    "tags": []
   },
   "outputs": [],
   "source": [
    "detections = inference.predict(ds, patch_size=40)\n",
    "observations = get_observations(ibtracs_src=ibtracs_src, dates=dates, lat_range=lat_range, lon_range=lon_range)"
   ]
  },
  {
   "cell_type": "markdown",
   "metadata": {},
   "source": [
    "Apply the tracking algorithm to link the TC centers and get the different tracks"
   ]
  },
  {
   "cell_type": "code",
   "execution_count": null,
   "metadata": {
    "tags": []
   },
   "outputs": [],
   "source": [
    "det_tracks = inference.tracking(detections, max_distance=400.0, min_track_count=12)\n",
    "obs_tracks = get_observed_tracks(observations)"
   ]
  },
  {
   "cell_type": "markdown",
   "metadata": {},
   "source": [
    "### Plot tracks"
   ]
  },
  {
   "cell_type": "code",
   "execution_count": null,
   "metadata": {
    "tags": []
   },
   "outputs": [],
   "source": [
    "plot_tracks(det_tracks, obs_tracks, lat_range, lon_range,\n",
    "           \"Detected tracks for during \"+str(year.value)+\"-\"+str(month.value))"
   ]
  },
  {
   "cell_type": "markdown",
   "metadata": {},
   "source": [
    "### Compare with observations"
   ]
  },
  {
   "cell_type": "code",
   "execution_count": null,
   "metadata": {},
   "outputs": [],
   "source": [
    "obs_tracks = obs_tracks.rename(columns={'ISO_TIME':'time','LAT':'lat','LON':'lon','TRACK_ID':'track_id'})[['time','lat','lon','track_id']]\n",
    "det_tracks = det_tracks.rename(columns={'ISO_TIME':'time', 'LAT':'lat', 'LON':'lon', 'WS':'ws', 'TRACK_ID':'track_id', 'HAVERSINE':'haversine'})\n",
    "\n",
    "# convert longitudes to range [0, 360] format\n",
    "obs_tracks['lon'] = (obs_tracks['lon'] + 180) % 360 - 180\n",
    "det_tracks['lon'] = (det_tracks['lon'] + 180) % 360 - 180\n",
    "\n",
    "mathces, results = compute_pod_and_far(dynamicopy, det_tracks, run_name, obs_tracks, 300, print_results=False)\n",
    "results['pod'] = results['pod'] * 100\n",
    "results['far'] = results['far'] * 100\n",
    "\n",
    "plot_pod_and_far(results, '', None)"
   ]
  },
  {
   "cell_type": "markdown",
   "metadata": {},
   "source": [
    "### Plot tracks duration"
   ]
  },
  {
   "cell_type": "code",
   "execution_count": null,
   "metadata": {},
   "outputs": [],
   "source": [
    "plot_track_durations(run_name, det_tracks, obs_tracks)"
   ]
  },
  {
   "cell_type": "markdown",
   "metadata": {},
   "source": [
    "## Inference workflow on projection data\n",
    "\n",
    "Let's get CMIP6 data on a given time frame (year and month) for the evaluation"
   ]
  },
  {
   "cell_type": "code",
   "execution_count": null,
   "metadata": {
    "tags": []
   },
   "outputs": [],
   "source": [
    "import ipywidgets as widgets\n",
    "\n",
    "climate_model = widgets.Dropdown(\n",
    "    options=[('CNRM-CM6-1-HR', 'CNRM-CM6-1-HR'), ('CMCC-CM2-VHR4', 'CMCC-CM2-VHR4'), ('EC-Earth3P-HR', 'EC-Earth3P-HR'),\n",
    "             ('MPI-ESM1-2-HR', 'MPI-ESM1-2-HR')],\n",
    "    value = 'CMCC-CM2-VHR4',\n",
    "    style={'description_width': '120px'}, \n",
    "    description='Model', disabled=False,\n",
    "    layout=widgets.Layout(width='300px'))\n",
    "\n",
    "year_range = widgets.IntRangeSlider(\n",
    "    value=[2030, 2035],        # initial range\n",
    "    min=2015,                 # min value\n",
    "    max=2050,               # max value\n",
    "    step=1,                # step size\n",
    "    description='Year range:',\n",
    "    style={'description_width': '80px'},\n",
    "    layout=widgets.Layout(width='400px')\n",
    ")\n",
    "\n",
    "display(widgets.HBox([climate_model, year_range]))"
   ]
  },
  {
   "cell_type": "code",
   "execution_count": null,
   "metadata": {
    "tags": []
   },
   "outputs": [],
   "source": [
    "ds, dates = inference.load_cmip_dataset_rucio(\n",
    "    climate_model, \n",
    "    'CMIP6', \n",
    "    'HighResMIP', \n",
    "    'VEGA-DCACHE', \n",
    "    start_year=year_range.value[0], end_year=year_range.value[1])"
   ]
  },
  {
   "cell_type": "markdown",
   "metadata": {},
   "source": [
    "We can now detect and localize the TC centers with the ML model"
   ]
  },
  {
   "cell_type": "code",
   "execution_count": null,
   "metadata": {
    "tags": []
   },
   "outputs": [],
   "source": [
    "detections = inference.predict(ds, patch_size=40)"
   ]
  },
  {
   "cell_type": "markdown",
   "metadata": {},
   "source": [
    "Apply the tracking algorithm to link the TC centers and get the different tracks"
   ]
  },
  {
   "cell_type": "code",
   "execution_count": null,
   "metadata": {
    "tags": []
   },
   "outputs": [],
   "source": [
    "det_tracks = inference.tracking(detections, max_distance=400.0, min_track_count=12)"
   ]
  },
  {
   "cell_type": "markdown",
   "metadata": {},
   "source": [
    "### Plot tracks"
   ]
  },
  {
   "cell_type": "code",
   "execution_count": null,
   "metadata": {
    "tags": []
   },
   "outputs": [],
   "source": [
    "plot_tracks(det_tracks, None, lat_range, lon_range, \n",
    "            \"Detected tracks for \"+climate_model.value+\" during \"+str(year_range.value[0])+\"-\"+str(year_range.value[1]))"
   ]
  }
 ],
 "metadata": {
  "kernelspec": {
   "display_name": "Python 3 (ipykernel)",
   "language": "python",
   "name": "python3"
  },
  "language_info": {
   "codemirror_mode": {
    "name": "ipython",
    "version": 3
   },
   "file_extension": ".py",
   "mimetype": "text/x-python",
   "name": "python",
   "nbconvert_exporter": "python",
   "pygments_lexer": "ipython3",
   "version": "3.12.11"
  }
 },
 "nbformat": 4,
 "nbformat_minor": 4
}
