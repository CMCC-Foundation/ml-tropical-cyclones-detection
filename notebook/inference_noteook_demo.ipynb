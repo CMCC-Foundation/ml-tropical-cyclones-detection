{
 "cells": [
  {
   "cell_type": "markdown",
   "metadata": {},
   "source": [
    "# Demo notebook to evaluate pre-trained model from ML TC detection & tracking\n",
    "\n",
    "First import relevant libraries to run the inference and define common info"
   ]
  },
  {
   "cell_type": "code",
   "execution_count": null,
   "metadata": {
    "tags": []
   },
   "outputs": [],
   "source": [
    "import sys\n",
    "import warnings\n",
    "warnings.filterwarnings('ignore')\n",
    "\n",
    "sys.path.append('../resources/library')\n",
    "from tropical_cyclone.inference import SingleModelInference, get_observations, get_observed_tracks\n",
    "from tropical_cyclone.visualize import plot_detections, plot_tracks\n",
    "from tropical_cyclone.models import *\n",
    "from tropical_cyclone.mlflow import load_model_from_mlflow, set_mlflow_endpoint, check_backend"
   ]
  },
  {
   "cell_type": "code",
   "execution_count": null,
   "metadata": {
    "tags": []
   },
   "outputs": [],
   "source": [
    "main_dir = '/home/jovyan/work/ml-tropical-cyclones-detection/'\n",
    "\n",
    "# path to dataset directory (if CMIP6 data must be in the proper grid format)\n",
    "dataset_dir = f'/home/jovyan/data/ERA5_Cyclones'\n",
    "# path to IBTrACS file to match ML model detections\n",
    "ibtracs_src = f'{main_dir}/data/ibtracs/filtered/ibtracs_main-tracks_6h_1980-2021_TS-NR-ET-MX-SS-DS.csv'\n",
    "# path to configutation file for the model\n",
    "config_file = f'{main_dir}/src/config/cnns.toml'\n",
    "\n",
    "# define lat and lon ranges\n",
    "lat_range = (0,70)\n",
    "lon_range = (100,320)"
   ]
  },
  {
   "cell_type": "markdown",
   "metadata": {},
   "source": [
    "Select the model by specfying the run name from the MLFlow and download model, scaler and provenance document"
   ]
  },
  {
   "cell_type": "code",
   "execution_count": null,
   "metadata": {
    "tags": []
   },
   "outputs": [],
   "source": [
    "set_mlflow_endpoint(config_file)\n",
    "run_name=input()\n",
    "registered_model, path = load_model_from_mlflow(run_name, provenance=True)\n",
    "registered_model "
   ]
  },
  {
   "cell_type": "markdown",
   "metadata": {},
   "source": [
    "## Inference Workflow\n",
    "\n",
    "Let's create the ML model object and get the data on a given time frame (year and month) for the evaluation"
   ]
  },
  {
   "cell_type": "code",
   "execution_count": null,
   "metadata": {
    "tags": []
   },
   "outputs": [],
   "source": [
    "device = check_backend()\n",
    "inference = SingleModelInference(model=registered_model, config_file=config_file, device=device)"
   ]
  },
  {
   "cell_type": "code",
   "execution_count": null,
   "metadata": {
    "tags": []
   },
   "outputs": [],
   "source": [
    "from ipywidgets import interact, interactive, fixed, interact_manual\n",
    "import ipywidgets as widgets\n",
    "\n",
    "month = widgets.Dropdown(\n",
    "    options=[('Jan', '01'), ('Feb', '02'), ('Mar', '03'),\n",
    "             ('Apr', '04'), ('May', '05'), ('Jun', '06'),\n",
    "             ('Jul', '07'), ('Aug', '08'), ('Sep', '09'),\n",
    "             ('Oct', '10'), ('Nov', '11'), ('Dec', '12'),\n",
    "             ('ALL', None)\n",
    "            ], value=None, description='Month:', disabled=False,)\n",
    "\n",
    "year = widgets.IntSlider(\n",
    "    value=2014, min=1980, max=2021, step=1,\n",
    "    description='Year:',\n",
    "    disabled=False,\n",
    "    continuous_update=False,\n",
    "    orientation='horizontal',\n",
    "    readout=True,\n",
    "    readout_format='d'\n",
    ")\n",
    "\n",
    "y = 2014\n",
    "m = 8\n",
    "\n",
    "ui = widgets.HBox([year, month])\n",
    "def f(a, b):\n",
    "    global y\n",
    "    y = a\n",
    "    global m \n",
    "    m = b\n",
    "\n",
    "out = widgets.interactive_output(f, {'a': year, 'b': month})\n",
    "\n",
    "display(ui)"
   ]
  },
  {
   "cell_type": "code",
   "execution_count": null,
   "metadata": {
    "tags": []
   },
   "outputs": [],
   "source": [
    "ds, dates = inference.load_dataset(dataset_dir=dataset_dir, year=y, month=m)"
   ]
  },
  {
   "cell_type": "markdown",
   "metadata": {},
   "source": [
    "We can now detect and localize the TC centers with the ML model"
   ]
  },
  {
   "cell_type": "code",
   "execution_count": null,
   "metadata": {
    "tags": []
   },
   "outputs": [],
   "source": [
    "detections = inference.predict(ds, patch_size=40)"
   ]
  },
  {
   "cell_type": "markdown",
   "metadata": {
    "tags": []
   },
   "source": [
    "And load also the observed TCs"
   ]
  },
  {
   "cell_type": "code",
   "execution_count": null,
   "metadata": {
    "tags": []
   },
   "outputs": [],
   "source": [
    "observations = get_observations(ibtracs_src=ibtracs_src, dates=dates, lat_range=lat_range, lon_range=lon_range)"
   ]
  },
  {
   "cell_type": "markdown",
   "metadata": {},
   "source": [
    "## Apply Tracking Algorithm\n",
    "Apply the tracking algorithm to link the TC centers and get the different tracks"
   ]
  },
  {
   "cell_type": "code",
   "execution_count": null,
   "metadata": {
    "tags": []
   },
   "outputs": [],
   "source": [
    "det_tracks = inference.tracking(detections, max_distance=400.0, min_track_count=12)\n",
    "obs_tracks = get_observed_tracks(observations)"
   ]
  },
  {
   "cell_type": "markdown",
   "metadata": {},
   "source": [
    "## Plot detections"
   ]
  },
  {
   "cell_type": "code",
   "execution_count": null,
   "metadata": {
    "tags": []
   },
   "outputs": [],
   "source": [
    "plot_detections(detections, observations, lat_range, lon_range)"
   ]
  },
  {
   "cell_type": "markdown",
   "metadata": {},
   "source": [
    "## Plot tracks"
   ]
  },
  {
   "cell_type": "code",
   "execution_count": null,
   "metadata": {
    "tags": []
   },
   "outputs": [],
   "source": [
    "plot_tracks(det_tracks, obs_tracks, lat_range, lon_range)"
   ]
  }
 ],
 "metadata": {
  "kernelspec": {
   "display_name": "Python 3 (ipykernel)",
   "language": "python",
   "name": "python3"
  },
  "language_info": {
   "codemirror_mode": {
    "name": "ipython",
    "version": 3
   },
   "file_extension": ".py",
   "mimetype": "text/x-python",
   "name": "python",
   "nbconvert_exporter": "python",
   "pygments_lexer": "ipython3",
   "version": "3.10.11"
  }
 },
 "nbformat": 4,
 "nbformat_minor": 4
}
