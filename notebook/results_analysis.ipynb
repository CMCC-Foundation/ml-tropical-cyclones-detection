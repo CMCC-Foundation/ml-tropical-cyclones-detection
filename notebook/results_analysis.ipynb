{
 "cells": [
  {
   "cell_type": "code",
   "execution_count": 1,
   "metadata": {
    "tags": []
   },
   "outputs": [
    {
     "name": "stderr",
     "output_type": "stream",
     "text": [
      "Matplotlib created a temporary config/cache directory at /tmp/matplotlib-cbvoltgo because the default path (/home/jovyan/.cache/matplotlib) is not a writable directory; it is highly recommended to set the MPLCONFIGDIR environment variable to a writable directory, in particular to speed up the import of Matplotlib and to better support multiprocessing.\n",
      "/opt/conda/lib/python3.10/site-packages/torch/__config__.py:10: UserWarning: CUDA initialization: CUDA unknown error - this may be due to an incorrectly set up environment, e.g. changing env variable CUDA_VISIBLE_DEVICES after program start. Setting the available devices to be zero. (Triggered internally at ../c10/cuda/CUDAFunctions.cpp:108.)\n",
      "  return torch._C._show_config()\n"
     ]
    }
   ],
   "source": [
    "from haversine import haversine_vector\n",
    "import pandas as pd\n",
    "import numpy as np\n",
    "import glob\n",
    "import os\n",
    "import sys\n",
    "sys.path.append('../resources/library')\n",
    "from tropical_cyclone.georeferencing import round_to_grid\n",
    "from tropical_cyclone.cyclone import init_track_dataframe, tracking_algorithm, paper_tracking_algorithm, track_matching\n",
    "from tropical_cyclone.visualize import plot_tracks, plot_detections\n",
    "from tropical_cyclone.macros import TEST_YEARS as test_years\n",
    "\n",
    "import warnings\n",
    "warnings.filterwarnings('ignore')"
   ]
  },
  {
   "cell_type": "code",
   "execution_count": 2,
   "metadata": {
    "tags": []
   },
   "outputs": [
    {
     "data": {
      "text/plain": [
       "['graphunet']"
      ]
     },
     "execution_count": 2,
     "metadata": {},
     "output_type": "execute_result"
    }
   ],
   "source": [
    "# define inference directory to draw detections\n",
    "dataset_dir = '../data/inference'\n",
    "available_models = sorted([folder for folder in os.listdir(dataset_dir) if os.path.isdir(os.path.join(dataset_dir, folder))])\n",
    "available_models"
   ]
  },
  {
   "cell_type": "code",
   "execution_count": 3,
   "metadata": {},
   "outputs": [],
   "source": [
    "# select the model to analyze\n",
    "#selected_model = '11_swin_fg10_t_500_msl_vo_850'\n",
    "selected_model = 'graphunet'\n",
    "\n",
    "# get ibtracs directory\n",
    "ibtracs_src = '../data/ibtracs/filtered/ibtracs_main-tracks_6h_1980-2021_TS-NR-ET-MX-SS-DS.csv'\n",
    "\n",
    "# define test years (same as paper)\n",
    "#test_years = [i for i in range(1980,2020)]\n",
    "# test_years = [1983, 1984, 1993, 1994, 2003, 2004, 2013, 2014]\n",
    "# test_years = [2011, 2012, 2013, 2014, 2015, 2016, 2017, 2018, 2019]\n",
    "# test_years = [1993]\n",
    "\n",
    "# kilometer threshold\n",
    "max_distance_detection = 1000.0\n",
    "\n",
    "# whether or not to make plots\n",
    "plot = False"
   ]
  },
  {
   "cell_type": "code",
   "execution_count": 4,
   "metadata": {},
   "outputs": [
    {
     "data": {
      "text/plain": [
       "('../data/inference/graphunet', ['../data/inference/graphunet/1997.csv'])"
      ]
     },
     "execution_count": 4,
     "metadata": {},
     "output_type": "execute_result"
    }
   ],
   "source": [
    "# get model directory\n",
    "model_dir = os.path.join(dataset_dir, selected_model)\n",
    "# get inference filenames\n",
    "inference_files = [os.path.join(model_dir, f'{year}.csv') for year in test_years]\n",
    "model_dir, inference_files"
   ]
  },
  {
   "cell_type": "code",
   "execution_count": 5,
   "metadata": {},
   "outputs": [
    {
     "data": {
      "text/html": [
       "<div>\n",
       "<style scoped>\n",
       "    .dataframe tbody tr th:only-of-type {\n",
       "        vertical-align: middle;\n",
       "    }\n",
       "\n",
       "    .dataframe tbody tr th {\n",
       "        vertical-align: top;\n",
       "    }\n",
       "\n",
       "    .dataframe thead th {\n",
       "        text-align: right;\n",
       "    }\n",
       "</style>\n",
       "<table border=\"1\" class=\"dataframe\">\n",
       "  <thead>\n",
       "    <tr style=\"text-align: right;\">\n",
       "      <th></th>\n",
       "      <th>ISO_TIME</th>\n",
       "      <th>LAT</th>\n",
       "      <th>LON</th>\n",
       "      <th>WS</th>\n",
       "    </tr>\n",
       "  </thead>\n",
       "  <tbody>\n",
       "    <tr>\n",
       "      <th>0</th>\n",
       "      <td>1997-01-11</td>\n",
       "      <td>61.00</td>\n",
       "      <td>221.25</td>\n",
       "      <td>inf</td>\n",
       "    </tr>\n",
       "    <tr>\n",
       "      <th>1</th>\n",
       "      <td>1997-01-11</td>\n",
       "      <td>65.00</td>\n",
       "      <td>237.00</td>\n",
       "      <td>inf</td>\n",
       "    </tr>\n",
       "    <tr>\n",
       "      <th>2</th>\n",
       "      <td>1997-01-11</td>\n",
       "      <td>51.50</td>\n",
       "      <td>219.50</td>\n",
       "      <td>inf</td>\n",
       "    </tr>\n",
       "    <tr>\n",
       "      <th>3</th>\n",
       "      <td>1997-01-11</td>\n",
       "      <td>56.75</td>\n",
       "      <td>223.25</td>\n",
       "      <td>inf</td>\n",
       "    </tr>\n",
       "    <tr>\n",
       "      <th>4</th>\n",
       "      <td>1997-01-11</td>\n",
       "      <td>40.75</td>\n",
       "      <td>207.00</td>\n",
       "      <td>inf</td>\n",
       "    </tr>\n",
       "    <tr>\n",
       "      <th>...</th>\n",
       "      <td>...</td>\n",
       "      <td>...</td>\n",
       "      <td>...</td>\n",
       "      <td>...</td>\n",
       "    </tr>\n",
       "    <tr>\n",
       "      <th>91096</th>\n",
       "      <td>1997-12-23</td>\n",
       "      <td>5.00</td>\n",
       "      <td>279.75</td>\n",
       "      <td>inf</td>\n",
       "    </tr>\n",
       "    <tr>\n",
       "      <th>91097</th>\n",
       "      <td>1997-12-23</td>\n",
       "      <td>7.50</td>\n",
       "      <td>287.50</td>\n",
       "      <td>inf</td>\n",
       "    </tr>\n",
       "    <tr>\n",
       "      <th>91098</th>\n",
       "      <td>1997-12-23</td>\n",
       "      <td>8.25</td>\n",
       "      <td>296.25</td>\n",
       "      <td>inf</td>\n",
       "    </tr>\n",
       "    <tr>\n",
       "      <th>91099</th>\n",
       "      <td>1997-12-23</td>\n",
       "      <td>8.50</td>\n",
       "      <td>309.75</td>\n",
       "      <td>inf</td>\n",
       "    </tr>\n",
       "    <tr>\n",
       "      <th>91100</th>\n",
       "      <td>1997-12-23</td>\n",
       "      <td>9.25</td>\n",
       "      <td>318.25</td>\n",
       "      <td>inf</td>\n",
       "    </tr>\n",
       "  </tbody>\n",
       "</table>\n",
       "<p>91101 rows × 4 columns</p>\n",
       "</div>"
      ],
      "text/plain": [
       "        ISO_TIME    LAT     LON   WS\n",
       "0     1997-01-11  61.00  221.25  inf\n",
       "1     1997-01-11  65.00  237.00  inf\n",
       "2     1997-01-11  51.50  219.50  inf\n",
       "3     1997-01-11  56.75  223.25  inf\n",
       "4     1997-01-11  40.75  207.00  inf\n",
       "...          ...    ...     ...  ...\n",
       "91096 1997-12-23   5.00  279.75  inf\n",
       "91097 1997-12-23   7.50  287.50  inf\n",
       "91098 1997-12-23   8.25  296.25  inf\n",
       "91099 1997-12-23   8.50  309.75  inf\n",
       "91100 1997-12-23   9.25  318.25  inf\n",
       "\n",
       "[91101 rows x 4 columns]"
      ]
     },
     "execution_count": 5,
     "metadata": {},
     "output_type": "execute_result"
    }
   ],
   "source": [
    "# load csv files\n",
    "csv_files = []\n",
    "for file in inference_files:\n",
    "    csv_files.append(pd.read_csv(file, index_col=0))\n",
    "# merge csv files together\n",
    "detections = pd.concat(csv_files).reset_index(drop=True)\n",
    "# convert iso time with pandas\n",
    "detections['ISO_TIME'] = pd.to_datetime(detections['ISO_TIME'])\n",
    "# add WS as np.inf\n",
    "detections['WS'] = np.inf\n",
    "detections"
   ]
  },
  {
   "cell_type": "code",
   "execution_count": 6,
   "metadata": {},
   "outputs": [
    {
     "data": {
      "text/html": [
       "<div>\n",
       "<style scoped>\n",
       "    .dataframe tbody tr th:only-of-type {\n",
       "        vertical-align: middle;\n",
       "    }\n",
       "\n",
       "    .dataframe tbody tr th {\n",
       "        vertical-align: top;\n",
       "    }\n",
       "\n",
       "    .dataframe thead th {\n",
       "        text-align: right;\n",
       "    }\n",
       "</style>\n",
       "<table border=\"1\" class=\"dataframe\">\n",
       "  <thead>\n",
       "    <tr style=\"text-align: right;\">\n",
       "      <th></th>\n",
       "      <th>ISO_TIME</th>\n",
       "      <th>SID</th>\n",
       "      <th>NATURE</th>\n",
       "      <th>WMO_WIND</th>\n",
       "      <th>LAT</th>\n",
       "      <th>LON</th>\n",
       "    </tr>\n",
       "  </thead>\n",
       "  <tbody>\n",
       "    <tr>\n",
       "      <th>0</th>\n",
       "      <td>1980-03-16 00:00:00</td>\n",
       "      <td>1980076N06148</td>\n",
       "      <td>NR</td>\n",
       "      <td></td>\n",
       "      <td>6.00</td>\n",
       "      <td>147.75</td>\n",
       "    </tr>\n",
       "    <tr>\n",
       "      <th>1</th>\n",
       "      <td>1980-03-16 06:00:00</td>\n",
       "      <td>1980076N06148</td>\n",
       "      <td>NR</td>\n",
       "      <td></td>\n",
       "      <td>6.00</td>\n",
       "      <td>147.25</td>\n",
       "    </tr>\n",
       "    <tr>\n",
       "      <th>2</th>\n",
       "      <td>1980-03-16 12:00:00</td>\n",
       "      <td>1980076N06148</td>\n",
       "      <td>NR</td>\n",
       "      <td></td>\n",
       "      <td>6.00</td>\n",
       "      <td>146.75</td>\n",
       "    </tr>\n",
       "    <tr>\n",
       "      <th>3</th>\n",
       "      <td>1980-03-16 18:00:00</td>\n",
       "      <td>1980076N06148</td>\n",
       "      <td>NR</td>\n",
       "      <td></td>\n",
       "      <td>6.00</td>\n",
       "      <td>146.50</td>\n",
       "    </tr>\n",
       "    <tr>\n",
       "      <th>4</th>\n",
       "      <td>1980-03-17 00:00:00</td>\n",
       "      <td>1980076N06148</td>\n",
       "      <td>NR</td>\n",
       "      <td></td>\n",
       "      <td>6.00</td>\n",
       "      <td>146.00</td>\n",
       "    </tr>\n",
       "    <tr>\n",
       "      <th>...</th>\n",
       "      <td>...</td>\n",
       "      <td>...</td>\n",
       "      <td>...</td>\n",
       "      <td>...</td>\n",
       "      <td>...</td>\n",
       "      <td>...</td>\n",
       "    </tr>\n",
       "    <tr>\n",
       "      <th>86188</th>\n",
       "      <td>2021-12-16 06:00:00</td>\n",
       "      <td>2021349N05108</td>\n",
       "      <td>TS</td>\n",
       "      <td></td>\n",
       "      <td>4.50</td>\n",
       "      <td>105.00</td>\n",
       "    </tr>\n",
       "    <tr>\n",
       "      <th>86189</th>\n",
       "      <td>2021-12-16 12:00:00</td>\n",
       "      <td>2021349N05108</td>\n",
       "      <td>TS</td>\n",
       "      <td></td>\n",
       "      <td>4.25</td>\n",
       "      <td>104.50</td>\n",
       "    </tr>\n",
       "    <tr>\n",
       "      <th>86190</th>\n",
       "      <td>2021-12-16 18:00:00</td>\n",
       "      <td>2021349N05108</td>\n",
       "      <td>TS</td>\n",
       "      <td></td>\n",
       "      <td>4.25</td>\n",
       "      <td>103.00</td>\n",
       "    </tr>\n",
       "    <tr>\n",
       "      <th>86191</th>\n",
       "      <td>2021-12-17 00:00:00</td>\n",
       "      <td>2021349N05108</td>\n",
       "      <td>TS</td>\n",
       "      <td></td>\n",
       "      <td>4.25</td>\n",
       "      <td>103.00</td>\n",
       "    </tr>\n",
       "    <tr>\n",
       "      <th>86192</th>\n",
       "      <td>2021-12-17 06:00:00</td>\n",
       "      <td>2021349N05108</td>\n",
       "      <td>NR</td>\n",
       "      <td></td>\n",
       "      <td>4.00</td>\n",
       "      <td>102.00</td>\n",
       "    </tr>\n",
       "  </tbody>\n",
       "</table>\n",
       "<p>86193 rows × 6 columns</p>\n",
       "</div>"
      ],
      "text/plain": [
       "                 ISO_TIME            SID NATURE WMO_WIND   LAT     LON\n",
       "0     1980-03-16 00:00:00  1980076N06148     NR           6.00  147.75\n",
       "1     1980-03-16 06:00:00  1980076N06148     NR           6.00  147.25\n",
       "2     1980-03-16 12:00:00  1980076N06148     NR           6.00  146.75\n",
       "3     1980-03-16 18:00:00  1980076N06148     NR           6.00  146.50\n",
       "4     1980-03-17 00:00:00  1980076N06148     NR           6.00  146.00\n",
       "...                   ...            ...    ...      ...   ...     ...\n",
       "86188 2021-12-16 06:00:00  2021349N05108     TS           4.50  105.00\n",
       "86189 2021-12-16 12:00:00  2021349N05108     TS           4.25  104.50\n",
       "86190 2021-12-16 18:00:00  2021349N05108     TS           4.25  103.00\n",
       "86191 2021-12-17 00:00:00  2021349N05108     TS           4.25  103.00\n",
       "86192 2021-12-17 06:00:00  2021349N05108     NR           4.00  102.00\n",
       "\n",
       "[86193 rows x 6 columns]"
      ]
     },
     "execution_count": 6,
     "metadata": {},
     "output_type": "execute_result"
    }
   ],
   "source": [
    "columns = ['ISO_TIME','SID','NATURE','WMO_WIND','LAT','LON']\n",
    "# load ibtracs\n",
    "observations = pd.read_csv(ibtracs_src, index_col=0)\n",
    "# convert iso time with pandas\n",
    "observations['ISO_TIME'] = pd.to_datetime(observations['ISO_TIME'])\n",
    "# get only some columns from ibtracs\n",
    "observations = observations[columns]\n",
    "# round lat and lon to be comparable with training data\n",
    "observations['LAT'] = round_to_grid(observations['LAT'], grid_res=0.25)\n",
    "observations['LON'] = round_to_grid(observations['LON'], grid_res=0.25)\n",
    "observations"
   ]
  },
  {
   "cell_type": "code",
   "execution_count": 7,
   "metadata": {},
   "outputs": [],
   "source": [
    "tmp = pd.merge(left=detections, right=observations, on='ISO_TIME', how='inner')\n",
    "tmp = tmp[tmp['ISO_TIME'].dt.year.isin(test_years)]\n",
    "dates = tmp['ISO_TIME'].to_numpy()"
   ]
  },
  {
   "cell_type": "code",
   "execution_count": 8,
   "metadata": {},
   "outputs": [
    {
     "name": "stdout",
     "output_type": "stream",
     "text": [
      "There are 86193 observations and 91101 detections\n"
     ]
    }
   ],
   "source": [
    "print(f'There are {len(observations)} observations and {len(detections)} detections')"
   ]
  },
  {
   "cell_type": "code",
   "execution_count": 9,
   "metadata": {},
   "outputs": [],
   "source": [
    "# get only detections and observations present on both dataframes\n",
    "detections = detections[detections['ISO_TIME'].isin(dates)].reset_index(drop=True)\n",
    "observations = observations[observations['ISO_TIME'].isin(dates)].reset_index(drop=True)"
   ]
  },
  {
   "cell_type": "code",
   "execution_count": 10,
   "metadata": {},
   "outputs": [
    {
     "name": "stdout",
     "output_type": "stream",
     "text": [
      "There are 2397 observations and 91003 detections\n"
     ]
    }
   ],
   "source": [
    "print(f'There are {len(observations)} observations and {len(detections)} detections')"
   ]
  },
  {
   "cell_type": "markdown",
   "metadata": {},
   "source": [
    "# Localization"
   ]
  },
  {
   "cell_type": "code",
   "execution_count": 11,
   "metadata": {},
   "outputs": [
    {
     "data": {
      "text/html": [
       "<div>\n",
       "<style scoped>\n",
       "    .dataframe tbody tr th:only-of-type {\n",
       "        vertical-align: middle;\n",
       "    }\n",
       "\n",
       "    .dataframe tbody tr th {\n",
       "        vertical-align: top;\n",
       "    }\n",
       "\n",
       "    .dataframe thead th {\n",
       "        text-align: right;\n",
       "    }\n",
       "</style>\n",
       "<table border=\"1\" class=\"dataframe\">\n",
       "  <thead>\n",
       "    <tr style=\"text-align: right;\">\n",
       "      <th></th>\n",
       "      <th>ISO_TIME</th>\n",
       "      <th>LAT_x</th>\n",
       "      <th>LON_x</th>\n",
       "      <th>WS</th>\n",
       "      <th>SID</th>\n",
       "      <th>NATURE</th>\n",
       "      <th>WMO_WIND</th>\n",
       "      <th>LAT_y</th>\n",
       "      <th>LON_y</th>\n",
       "      <th>HDIST</th>\n",
       "    </tr>\n",
       "  </thead>\n",
       "  <tbody>\n",
       "    <tr>\n",
       "      <th>0</th>\n",
       "      <td>1997-01-11</td>\n",
       "      <td>61.00</td>\n",
       "      <td>221.25</td>\n",
       "      <td>inf</td>\n",
       "      <td>1997011N04176</td>\n",
       "      <td>NR</td>\n",
       "      <td></td>\n",
       "      <td>4.0</td>\n",
       "      <td>176.0</td>\n",
       "      <td>7375.404151</td>\n",
       "    </tr>\n",
       "    <tr>\n",
       "      <th>1</th>\n",
       "      <td>1997-01-11</td>\n",
       "      <td>65.00</td>\n",
       "      <td>237.00</td>\n",
       "      <td>inf</td>\n",
       "      <td>1997011N04176</td>\n",
       "      <td>NR</td>\n",
       "      <td></td>\n",
       "      <td>4.0</td>\n",
       "      <td>176.0</td>\n",
       "      <td>8281.568869</td>\n",
       "    </tr>\n",
       "    <tr>\n",
       "      <th>2</th>\n",
       "      <td>1997-01-11</td>\n",
       "      <td>51.50</td>\n",
       "      <td>219.50</td>\n",
       "      <td>inf</td>\n",
       "      <td>1997011N04176</td>\n",
       "      <td>NR</td>\n",
       "      <td></td>\n",
       "      <td>4.0</td>\n",
       "      <td>176.0</td>\n",
       "      <td>6634.504419</td>\n",
       "    </tr>\n",
       "    <tr>\n",
       "      <th>3</th>\n",
       "      <td>1997-01-11</td>\n",
       "      <td>56.75</td>\n",
       "      <td>223.25</td>\n",
       "      <td>inf</td>\n",
       "      <td>1997011N04176</td>\n",
       "      <td>NR</td>\n",
       "      <td></td>\n",
       "      <td>4.0</td>\n",
       "      <td>176.0</td>\n",
       "      <td>7178.430306</td>\n",
       "    </tr>\n",
       "    <tr>\n",
       "      <th>4</th>\n",
       "      <td>1997-01-11</td>\n",
       "      <td>40.75</td>\n",
       "      <td>207.00</td>\n",
       "      <td>inf</td>\n",
       "      <td>1997011N04176</td>\n",
       "      <td>NR</td>\n",
       "      <td></td>\n",
       "      <td>4.0</td>\n",
       "      <td>176.0</td>\n",
       "      <td>5126.884366</td>\n",
       "    </tr>\n",
       "  </tbody>\n",
       "</table>\n",
       "</div>"
      ],
      "text/plain": [
       "    ISO_TIME  LAT_x   LON_x   WS            SID NATURE WMO_WIND  LAT_y  LON_y  \\\n",
       "0 1997-01-11  61.00  221.25  inf  1997011N04176     NR             4.0  176.0   \n",
       "1 1997-01-11  65.00  237.00  inf  1997011N04176     NR             4.0  176.0   \n",
       "2 1997-01-11  51.50  219.50  inf  1997011N04176     NR             4.0  176.0   \n",
       "3 1997-01-11  56.75  223.25  inf  1997011N04176     NR             4.0  176.0   \n",
       "4 1997-01-11  40.75  207.00  inf  1997011N04176     NR             4.0  176.0   \n",
       "\n",
       "         HDIST  \n",
       "0  7375.404151  \n",
       "1  8281.568869  \n",
       "2  6634.504419  \n",
       "3  7178.430306  \n",
       "4  5126.884366  "
      ]
     },
     "execution_count": 11,
     "metadata": {},
     "output_type": "execute_result"
    }
   ],
   "source": [
    "# merge together detections and ibtracs\n",
    "matches = pd.merge(left=detections, right=observations, on='ISO_TIME')\n",
    "# compute haversine distance between any couple of points\n",
    "matches['HDIST'] = haversine_vector(array1=matches[['LAT_x','LON_x']].to_numpy(), array2=matches[['LAT_y','LON_y']].to_numpy(), normalize=True)\n",
    "matches.head()"
   ]
  },
  {
   "cell_type": "code",
   "execution_count": 12,
   "metadata": {},
   "outputs": [
    {
     "data": {
      "text/html": [
       "<div>\n",
       "<style scoped>\n",
       "    .dataframe tbody tr th:only-of-type {\n",
       "        vertical-align: middle;\n",
       "    }\n",
       "\n",
       "    .dataframe tbody tr th {\n",
       "        vertical-align: top;\n",
       "    }\n",
       "\n",
       "    .dataframe thead th {\n",
       "        text-align: right;\n",
       "    }\n",
       "</style>\n",
       "<table border=\"1\" class=\"dataframe\">\n",
       "  <thead>\n",
       "    <tr style=\"text-align: right;\">\n",
       "      <th></th>\n",
       "      <th>ISO_TIME</th>\n",
       "      <th>LAT_y</th>\n",
       "      <th>LON_y</th>\n",
       "      <th>SID</th>\n",
       "      <th>NATURE</th>\n",
       "      <th>WMO_WIND</th>\n",
       "      <th>LAT_x</th>\n",
       "      <th>LON_x</th>\n",
       "      <th>WS</th>\n",
       "      <th>HDIST</th>\n",
       "    </tr>\n",
       "  </thead>\n",
       "  <tbody>\n",
       "    <tr>\n",
       "      <th>0</th>\n",
       "      <td>1997-01-11 00:00:00</td>\n",
       "      <td>4.0</td>\n",
       "      <td>176.00</td>\n",
       "      <td>1997011N04176</td>\n",
       "      <td>NR</td>\n",
       "      <td></td>\n",
       "      <td>8.00</td>\n",
       "      <td>168.50</td>\n",
       "      <td>inf</td>\n",
       "      <td>715.699544</td>\n",
       "    </tr>\n",
       "    <tr>\n",
       "      <th>1</th>\n",
       "      <td>1997-01-11 06:00:00</td>\n",
       "      <td>4.0</td>\n",
       "      <td>175.50</td>\n",
       "      <td>1997011N04176</td>\n",
       "      <td>NR</td>\n",
       "      <td></td>\n",
       "      <td>6.25</td>\n",
       "      <td>167.25</td>\n",
       "      <td>inf</td>\n",
       "      <td>647.216313</td>\n",
       "    </tr>\n",
       "    <tr>\n",
       "      <th>2</th>\n",
       "      <td>1997-01-11 12:00:00</td>\n",
       "      <td>4.0</td>\n",
       "      <td>174.75</td>\n",
       "      <td>1997011N04176</td>\n",
       "      <td>NR</td>\n",
       "      <td></td>\n",
       "      <td>5.75</td>\n",
       "      <td>176.75</td>\n",
       "      <td>inf</td>\n",
       "      <td>692.625160</td>\n",
       "    </tr>\n",
       "    <tr>\n",
       "      <th>3</th>\n",
       "      <td>1997-01-11 18:00:00</td>\n",
       "      <td>4.0</td>\n",
       "      <td>174.00</td>\n",
       "      <td>1997011N04176</td>\n",
       "      <td>NR</td>\n",
       "      <td></td>\n",
       "      <td>6.25</td>\n",
       "      <td>175.75</td>\n",
       "      <td>inf</td>\n",
       "      <td>641.353435</td>\n",
       "    </tr>\n",
       "    <tr>\n",
       "      <th>4</th>\n",
       "      <td>1997-01-12 00:00:00</td>\n",
       "      <td>4.0</td>\n",
       "      <td>173.25</td>\n",
       "      <td>1997011N04176</td>\n",
       "      <td>NR</td>\n",
       "      <td></td>\n",
       "      <td>7.00</td>\n",
       "      <td>176.75</td>\n",
       "      <td>inf</td>\n",
       "      <td>794.958950</td>\n",
       "    </tr>\n",
       "  </tbody>\n",
       "</table>\n",
       "</div>"
      ],
      "text/plain": [
       "             ISO_TIME  LAT_y   LON_y            SID NATURE WMO_WIND  LAT_x  \\\n",
       "0 1997-01-11 00:00:00    4.0  176.00  1997011N04176     NR            8.00   \n",
       "1 1997-01-11 06:00:00    4.0  175.50  1997011N04176     NR            6.25   \n",
       "2 1997-01-11 12:00:00    4.0  174.75  1997011N04176     NR            5.75   \n",
       "3 1997-01-11 18:00:00    4.0  174.00  1997011N04176     NR            6.25   \n",
       "4 1997-01-12 00:00:00    4.0  173.25  1997011N04176     NR            7.00   \n",
       "\n",
       "    LON_x   WS       HDIST  \n",
       "0  168.50  inf  715.699544  \n",
       "1  167.25  inf  647.216313  \n",
       "2  176.75  inf  692.625160  \n",
       "3  175.75  inf  641.353435  \n",
       "4  176.75  inf  794.958950  "
      ]
     },
     "execution_count": 12,
     "metadata": {},
     "output_type": "execute_result"
    }
   ],
   "source": [
    "# remove all the distances above `max_distance_localization` km\n",
    "matches = matches[matches['HDIST'] < max_distance_detection]\n",
    "# group by LATx and LONx and find the minimum (to remove x duplicates)\n",
    "matches = matches.groupby(by=['ISO_TIME','LAT_x','LON_x','SID','NATURE','WMO_WIND']).min('HDIST').reset_index()\n",
    "# repeat grouping by LATy and LONy and find the minimum (to remove y duplicates)\n",
    "matches = matches.groupby(by=['ISO_TIME','LAT_y','LON_y','SID','NATURE','WMO_WIND']).min('HDIST').reset_index()\n",
    "# show result\n",
    "matches.head()"
   ]
  },
  {
   "cell_type": "code",
   "execution_count": 13,
   "metadata": {},
   "outputs": [
    {
     "name": "stdout",
     "output_type": "stream",
     "text": [
      "Model graphunet Localization results\n",
      "   Min distance (0.0 km)\n",
      "   Max distance (955.2 km)\n",
      "   Average distance (201.68 km)\n",
      "   Median distance (138.99 km)\n"
     ]
    }
   ],
   "source": [
    "min_distance_localization = matches['HDIST'].min()\n",
    "max_distance_localization = matches['HDIST'].max()\n",
    "mean_distance_localization = matches['HDIST'].mean()\n",
    "median_distance_localization = matches['HDIST'].median()\n",
    "\n",
    "print(f\"Model {selected_model} Localization results\")\n",
    "print(f\"   Min distance ({np.round(min_distance_localization,2)} km)\")\n",
    "print(f\"   Max distance ({np.round(max_distance_localization,2)} km)\")\n",
    "print(f\"   Average distance ({np.round(mean_distance_localization,2)} km)\")\n",
    "print(f\"   Median distance ({np.round(median_distance_localization,2)} km)\")"
   ]
  },
  {
   "cell_type": "code",
   "execution_count": 14,
   "metadata": {},
   "outputs": [],
   "source": [
    "if plot: plot_detections(detections, observations)"
   ]
  },
  {
   "cell_type": "markdown",
   "metadata": {},
   "source": [
    "# Classification"
   ]
  },
  {
   "cell_type": "code",
   "execution_count": 15,
   "metadata": {},
   "outputs": [],
   "source": [
    "def F_beta(beta, precision, recall):\n",
    "    return (1 + beta**2) * ((precision * recall) / ((beta**2 * precision) + recall))"
   ]
  },
  {
   "cell_type": "code",
   "execution_count": 16,
   "metadata": {},
   "outputs": [],
   "source": [
    "n_dets = len(detections)\n",
    "n_tp = len(matches)\n",
    "n_obs = len(observations)\n",
    "n_fp = n_dets - n_tp\n",
    "n_fn = n_obs - n_tp"
   ]
  },
  {
   "cell_type": "code",
   "execution_count": 17,
   "metadata": {},
   "outputs": [],
   "source": [
    "precision = n_tp / (n_tp + n_fp)\n",
    "recall = n_tp / (n_tp + n_fn)\n",
    "f2_score = F_beta(beta=2, precision=precision, recall=recall) * 100"
   ]
  },
  {
   "cell_type": "code",
   "execution_count": 18,
   "metadata": {},
   "outputs": [
    {
     "name": "stdout",
     "output_type": "stream",
     "text": [
      "Model graphunet Classification results\n",
      "   F2 : 11.83 % (precision=0.03, recall=0.99)\n",
      "   TP : 2379 out of 2397 observations (99.0 %)\n",
      "   FP : 88624 out of 91003 ML detections (97.0 %)\n",
      "   FN : 18 out of 2397 observations (1.0 %)\n"
     ]
    }
   ],
   "source": [
    "print(f\"Model {selected_model} Classification results\")\n",
    "print(f\"   F2 : {np.round(f2_score,2)} % (precision={np.round(precision, 2)}, recall={np.round(recall,2)})\")\n",
    "print(f\"   TP : {n_tp} out of {n_obs} observations ({np.round(n_tp / n_obs * 100)} %)\")\n",
    "print(f\"   FP : {n_fp} out of {n_dets} ML detections ({np.round(n_fp / n_dets * 100)} %)\")\n",
    "print(f\"   FN : {n_fn} out of {n_obs} observations ({np.round(n_fn / n_obs * 100)} %)\")"
   ]
  },
  {
   "cell_type": "markdown",
   "metadata": {},
   "source": [
    "# Tracking"
   ]
  },
  {
   "cell_type": "code",
   "execution_count": 19,
   "metadata": {},
   "outputs": [],
   "source": [
    "# minimum track length (1 day)\n",
    "min_track_count = 12\n",
    "# minimum speed of wind in order to consider the track true\n",
    "min_wind_speed = 17.0\n",
    "# maximum distance between tracks\n",
    "max_track_distance_tracking = 400.0\n",
    "\n",
    "grid_res = 0.25\n",
    "km_to_deg = 110.474"
   ]
  },
  {
   "cell_type": "code",
   "execution_count": 20,
   "metadata": {},
   "outputs": [
    {
     "data": {
      "text/html": [
       "<div>\n",
       "<style scoped>\n",
       "    .dataframe tbody tr th:only-of-type {\n",
       "        vertical-align: middle;\n",
       "    }\n",
       "\n",
       "    .dataframe tbody tr th {\n",
       "        vertical-align: top;\n",
       "    }\n",
       "\n",
       "    .dataframe thead th {\n",
       "        text-align: right;\n",
       "    }\n",
       "</style>\n",
       "<table border=\"1\" class=\"dataframe\">\n",
       "  <thead>\n",
       "    <tr style=\"text-align: right;\">\n",
       "      <th></th>\n",
       "      <th>ISO_TIME</th>\n",
       "      <th>TRACK_ID</th>\n",
       "      <th>NATURE</th>\n",
       "      <th>WMO_WIND</th>\n",
       "      <th>LAT</th>\n",
       "      <th>LON</th>\n",
       "    </tr>\n",
       "  </thead>\n",
       "  <tbody>\n",
       "    <tr>\n",
       "      <th>0</th>\n",
       "      <td>1997-01-11 00:00:00</td>\n",
       "      <td>1997011N04176</td>\n",
       "      <td>NR</td>\n",
       "      <td></td>\n",
       "      <td>4.0</td>\n",
       "      <td>176.00</td>\n",
       "    </tr>\n",
       "    <tr>\n",
       "      <th>1</th>\n",
       "      <td>1997-01-11 06:00:00</td>\n",
       "      <td>1997011N04176</td>\n",
       "      <td>NR</td>\n",
       "      <td></td>\n",
       "      <td>4.0</td>\n",
       "      <td>175.50</td>\n",
       "    </tr>\n",
       "    <tr>\n",
       "      <th>2</th>\n",
       "      <td>1997-01-11 12:00:00</td>\n",
       "      <td>1997011N04176</td>\n",
       "      <td>NR</td>\n",
       "      <td></td>\n",
       "      <td>4.0</td>\n",
       "      <td>174.75</td>\n",
       "    </tr>\n",
       "    <tr>\n",
       "      <th>3</th>\n",
       "      <td>1997-01-11 18:00:00</td>\n",
       "      <td>1997011N04176</td>\n",
       "      <td>NR</td>\n",
       "      <td></td>\n",
       "      <td>4.0</td>\n",
       "      <td>174.00</td>\n",
       "    </tr>\n",
       "    <tr>\n",
       "      <th>4</th>\n",
       "      <td>1997-01-12 00:00:00</td>\n",
       "      <td>1997011N04176</td>\n",
       "      <td>NR</td>\n",
       "      <td></td>\n",
       "      <td>4.0</td>\n",
       "      <td>173.25</td>\n",
       "    </tr>\n",
       "  </tbody>\n",
       "</table>\n",
       "</div>"
      ],
      "text/plain": [
       "             ISO_TIME       TRACK_ID NATURE WMO_WIND  LAT     LON\n",
       "0 1997-01-11 00:00:00  1997011N04176     NR           4.0  176.00\n",
       "1 1997-01-11 06:00:00  1997011N04176     NR           4.0  175.50\n",
       "2 1997-01-11 12:00:00  1997011N04176     NR           4.0  174.75\n",
       "3 1997-01-11 18:00:00  1997011N04176     NR           4.0  174.00\n",
       "4 1997-01-12 00:00:00  1997011N04176     NR           4.0  173.25"
      ]
     },
     "execution_count": 20,
     "metadata": {},
     "output_type": "execute_result"
    }
   ],
   "source": [
    "# rename SID to TRACK_ID\n",
    "observed_tracks = observations.rename(columns={'SID':'TRACK_ID'})\n",
    "# get only long enough tracks for the comparison\n",
    "valid_observations_sids = observed_tracks.groupby('TRACK_ID').filter(lambda x: len(x) >= min_track_count)['TRACK_ID'].unique()\n",
    "# filter out the observations\n",
    "observed_tracks = observed_tracks[observed_tracks['TRACK_ID'].isin(valid_observations_sids)].reset_index(drop=True)\n",
    "observed_tracks.head()"
   ]
  },
  {
   "cell_type": "code",
   "execution_count": 21,
   "metadata": {},
   "outputs": [
    {
     "data": {
      "text/html": [
       "<div>\n",
       "<style scoped>\n",
       "    .dataframe tbody tr th:only-of-type {\n",
       "        vertical-align: middle;\n",
       "    }\n",
       "\n",
       "    .dataframe tbody tr th {\n",
       "        vertical-align: top;\n",
       "    }\n",
       "\n",
       "    .dataframe thead th {\n",
       "        text-align: right;\n",
       "    }\n",
       "</style>\n",
       "<table border=\"1\" class=\"dataframe\">\n",
       "  <thead>\n",
       "    <tr style=\"text-align: right;\">\n",
       "      <th></th>\n",
       "      <th>ISO_TIME</th>\n",
       "      <th>LAT</th>\n",
       "      <th>LON</th>\n",
       "      <th>WS</th>\n",
       "      <th>TRACK_ID</th>\n",
       "      <th>HAVERSINE</th>\n",
       "    </tr>\n",
       "  </thead>\n",
       "  <tbody>\n",
       "    <tr>\n",
       "      <th>0</th>\n",
       "      <td>1997-01-11 00:00:00</td>\n",
       "      <td>10.25</td>\n",
       "      <td>108.75</td>\n",
       "      <td>inf</td>\n",
       "      <td>1997011100_48</td>\n",
       "      <td>109.420440</td>\n",
       "    </tr>\n",
       "    <tr>\n",
       "      <th>1</th>\n",
       "      <td>1997-01-11 00:00:00</td>\n",
       "      <td>20.00</td>\n",
       "      <td>116.50</td>\n",
       "      <td>inf</td>\n",
       "      <td>1997011100_49</td>\n",
       "      <td>370.387777</td>\n",
       "    </tr>\n",
       "    <tr>\n",
       "      <th>2</th>\n",
       "      <td>1997-01-11 00:00:00</td>\n",
       "      <td>18.50</td>\n",
       "      <td>120.00</td>\n",
       "      <td>inf</td>\n",
       "      <td>1997011100_50</td>\n",
       "      <td>0.000000</td>\n",
       "    </tr>\n",
       "    <tr>\n",
       "      <th>3</th>\n",
       "      <td>1997-01-11 00:00:00</td>\n",
       "      <td>11.00</td>\n",
       "      <td>240.00</td>\n",
       "      <td>inf</td>\n",
       "      <td>1997011100_62</td>\n",
       "      <td>0.000000</td>\n",
       "    </tr>\n",
       "    <tr>\n",
       "      <th>4</th>\n",
       "      <td>1997-01-11 00:00:00</td>\n",
       "      <td>10.00</td>\n",
       "      <td>318.25</td>\n",
       "      <td>inf</td>\n",
       "      <td>1997011100_91</td>\n",
       "      <td>215.959982</td>\n",
       "    </tr>\n",
       "  </tbody>\n",
       "</table>\n",
       "</div>"
      ],
      "text/plain": [
       "              ISO_TIME    LAT     LON   WS       TRACK_ID   HAVERSINE\n",
       "0  1997-01-11 00:00:00  10.25  108.75  inf  1997011100_48  109.420440\n",
       "1  1997-01-11 00:00:00  20.00  116.50  inf  1997011100_49  370.387777\n",
       "2  1997-01-11 00:00:00  18.50  120.00  inf  1997011100_50    0.000000\n",
       "3  1997-01-11 00:00:00  11.00  240.00  inf  1997011100_62    0.000000\n",
       "4  1997-01-11 00:00:00  10.00  318.25  inf  1997011100_91  215.959982"
      ]
     },
     "execution_count": 21,
     "metadata": {},
     "output_type": "execute_result"
    }
   ],
   "source": [
    "# apply tracking scheme\n",
    "tracking_src = f'/ceph/hpc/home/ciangottinid/ml-tropical-cyclones-detection/data/inference/{selected_model}/tracking.csv'\n",
    "if not os.path.exists(tracking_src):\n",
    "    detected_tracks = init_track_dataframe(detections)\n",
    "    detected_tracks = tracking_algorithm(detected_tracks, max_track_distance_tracking, min_track_count)\n",
    "    # detected_tracks = paper_tracking_algorithm(detected_tracks, max_track_distance_tracking, min_track_count)\n",
    "    detected_tracks.to_csv(tracking_src)\n",
    "else:\n",
    "    detected_tracks = pd.read_csv(tracking_src, index_col=0)\n",
    "detected_tracks.head()\n",
    "\n",
    "# detected_tracks = init_track_dataframe(detections)\n",
    "# detected_tracks = tracking_algorithm(detected_tracks, max_track_distance_tracking, min_track_count)\n",
    "# detected_tracks = paper_tracking_algorithm(detected_tracks, max_track_distance_tracking, min_track_count)"
   ]
  },
  {
   "cell_type": "code",
   "execution_count": 22,
   "metadata": {},
   "outputs": [
    {
     "name": "stdout",
     "output_type": "stream",
     "text": [
      "There are:\n",
      "   - 841 detected tracks\n",
      "   - 56 observed tracks\n"
     ]
    }
   ],
   "source": [
    "print(f'There are:')\n",
    "print(f'   - {len(detected_tracks[\"TRACK_ID\"].unique())} detected tracks')\n",
    "# print(f'   - {len(paper_detected_tracks[\"TRACK_ID\"].unique())} detected tracks (paper)')\n",
    "print(f'   - {len(observed_tracks[\"TRACK_ID\"].unique())} observed tracks')"
   ]
  },
  {
   "cell_type": "code",
   "execution_count": 23,
   "metadata": {},
   "outputs": [],
   "source": [
    "if plot:plot_tracks(detected_tracks, observed_tracks)\n",
    "# plot_tracks(detected_tracks[pd.to_datetime(detected_tracks['ISO_TIME']).dt.year.isin([1993])], observed_tracks[pd.to_datetime(observed_tracks['ISO_TIME']).dt.year.isin([1993])])"
   ]
  },
  {
   "cell_type": "markdown",
   "metadata": {},
   "source": [
    "# Track Matching"
   ]
  },
  {
   "cell_type": "code",
   "execution_count": null,
   "metadata": {},
   "outputs": [
    {
     "name": "stdout",
     "output_type": "stream",
     "text": [
      "Failure in importing the cartopy library, the dynamicopy.cartoplot will not be loaded.     Please install cartopy if you wish to use it.\n",
      "Failure in importing the cartopy library, the dynamicopy.cartoplot will not be loaded.     Please install cartopy if you wish to use it.\n"
     ]
    }
   ],
   "source": [
    "import dynamicopy\n",
    "\n",
    "# maximum distance to consider true the match\n",
    "max_track_distance_matching = 300.0"
   ]
  },
  {
   "cell_type": "markdown",
   "metadata": {},
   "source": [
    "##### Our track matching algorithm provides same results of Bourdin's (but more slowly)"
   ]
  },
  {
   "cell_type": "code",
   "execution_count": 25,
   "metadata": {},
   "outputs": [],
   "source": [
    "# track_matches = track_matching(detected_tracks, observed_tracks, max_track_distance_matching)\n",
    "# # H = HITS = True Positive\n",
    "# H = len(track_matches[(track_matches['DET_TRACK_ID']!='') & (track_matches['OBS_TRACK_ID']!='')])\n",
    "# # M = Miss = False Negative\n",
    "# M = len(track_matches[(track_matches['DET_TRACK_ID']=='') & (track_matches['OBS_TRACK_ID']!='')])\n",
    "# # FA = False Alarm = False Positive\n",
    "# FA = len(track_matches[(track_matches['DET_TRACK_ID']!='') & (track_matches['OBS_TRACK_ID']=='')])\n",
    "\n",
    "# POD = (H / (H + M))\n",
    "# FAR = (FA / (H + FA))\n",
    "\n",
    "# print(f\"Hits : {H}\")\n",
    "# print(f\"Miss : {M}\")\n",
    "# print(f\"False Alarm : {FA}\")\n",
    "# print(f\"POD : {POD}\")\n",
    "# print(f\"FAR : {FAR}\")"
   ]
  },
  {
   "cell_type": "code",
   "execution_count": 26,
   "metadata": {},
   "outputs": [],
   "source": [
    "# # load bourdin observed tracks from library\n",
    "# bourdin_observed_tracks = pd.read_csv('/Users/davide/Developer/ml-tropical-cyclones-detection/resources/library/zenodo_bourdin/ibtracs/ibtracs.since1980.cleaned.csv', index_col=0)\n",
    "\n",
    "# # convert columns to dynamicopy compliant format\n",
    "# detected_tracks = detected_tracks.rename(columns={'ISO_TIME':'time','LAT':'lat','LON':'lon','TRACK_ID':'track_id'})\n",
    "# observed_tracks = observed_tracks.rename(columns={'ISO_TIME':'time','LAT':'lat','LON':'lon','TRACK_ID':'track_id'})\n",
    "\n",
    "# # convert time column pandas datetime format\n",
    "# detected_tracks['time'] = pd.to_datetime(detected_tracks['time'])\n",
    "# observed_tracks['time'] = pd.to_datetime(observed_tracks['time'])\n",
    "# bourdin_observed_tracks['time'] = pd.to_datetime(bourdin_observed_tracks['time'])\n",
    "\n",
    "# # convert longitudes to range [0, 360] format\n",
    "# detected_tracks['lon'] = (detected_tracks['lon'] + 540) % 360 - 180\n",
    "# observed_tracks['lon'] = (observed_tracks['lon'] + 540) % 360 - 180\n",
    "# bourdin_observed_tracks['lon'] = (bourdin_observed_tracks['lon'] + 540) % 360 - 180\n",
    "\n",
    "# # remove out of bound (both space and time) detections from bourdin observations\n",
    "# bourdin_observed_tracks = bourdin_observed_tracks[(bourdin_observed_tracks['lon']>=100) & (bourdin_observed_tracks['lon']<=320) & (bourdin_observed_tracks['lat']>=0) & (bourdin_observed_tracks['lat']<=70)]\n",
    "# bourdin_observed_tracks = bourdin_observed_tracks[bourdin_observed_tracks['time'].isin(dates)]\n",
    "# bourdin_observed_tracks = bourdin_observed_tracks[bourdin_observed_tracks['track_id'].isin(bourdin_observed_tracks.groupby('track_id').filter(lambda x: len(x) >= min_track_count)['track_id'].unique())].reset_index(drop=True)"
   ]
  },
  {
   "cell_type": "code",
   "execution_count": null,
   "metadata": {},
   "outputs": [],
   "source": [
    "# bourdin_track_matches = dynamicopy.tc.match_tracks(detected_tracks, bourdin_observed_tracks, \"ours\", 'bourdin', max_dist=max_track_distance_matching, min_overlap=0, ref=True)\n",
    "\n",
    "# n_ib_match = len(bourdin_track_matches[f'id_bourdin'].unique())\n",
    "# n_our_match = len(bourdin_track_matches['id_ours'].unique())\n",
    "# n_observations = len(bourdin_observed_tracks.track_id.unique())\n",
    "# n_detections = len(detected_tracks.track_id.unique())\n",
    "\n",
    "# H, M, FA = n_ib_match, n_observations - n_ib_match, n_detections - n_our_match\n",
    "# POD = H / (H + M)\n",
    "# FAR = FA / (H + FA)\n",
    "\n",
    "# print(f\"Hits : {H}\")\n",
    "# print(f\"Misses : {M}\")\n",
    "# print(f\"False Alarms : {FA}\")\n",
    "# print(f\"POD : {POD}\")\n",
    "# print(f\"FAR : {FAR}\")"
   ]
  },
  {
   "cell_type": "code",
   "execution_count": 28,
   "metadata": {},
   "outputs": [
    {
     "data": {
      "text/plain": [
       "(Index(['time', 'lat', 'lon', 'ws', 'track_id', 'haversine'], dtype='object'),\n",
       " Index(['time', 'track_id', 'nature', 'wmo_wind', 'lat', 'lon'], dtype='object'))"
      ]
     },
     "execution_count": 28,
     "metadata": {},
     "output_type": "execute_result"
    }
   ],
   "source": [
    "# fix for upper/lowercase problems with column names\n",
    "detected_tracks.columns = detected_tracks.columns.str.lower()\n",
    "observed_tracks.columns = observed_tracks.columns.str.lower()\n",
    "\n",
    "# fix for 'iso_time' being required as 'time' by dynamicopy\n",
    "detected_tracks.rename(columns={'iso_time': 'time'}, inplace=True)\n",
    "observed_tracks.rename(columns={'iso_time': 'time'}, inplace=True)\n",
    "\n",
    "# fix for longitude out of range [-180, 180]\n",
    "detected_tracks.lon -= 180\n",
    "observed_tracks.lon -= 180\n",
    "\n",
    "detected_tracks.columns, observed_tracks.columns"
   ]
  },
  {
   "cell_type": "code",
   "execution_count": null,
   "metadata": {},
   "outputs": [
    {
     "name": "stdout",
     "output_type": "stream",
     "text": [
      "Hits : 52\n",
      "Misses : 4\n",
      "False Alarms : 690\n",
      "POD : 0.9285714285714286\n",
      "FAR : 0.9299191374663073\n"
     ]
    }
   ],
   "source": [
    "# ensuring compatibility between different Pandas versions\n",
    "detected_tracks['time'] = pd.to_datetime(detected_tracks['time'])\n",
    "observed_tracks['time'] = pd.to_datetime(observed_tracks['time'])\n",
    "\n",
    "track_matches = dynamicopy.tc.match_tracks(detected_tracks, observed_tracks, \"ours\", 'ibtracs', max_dist=max_track_distance_matching, min_overlap=0, ref=True)\n",
    "\n",
    "n_ib_match = len(track_matches[f'id_ibtracs'].unique())\n",
    "n_our_match = len(track_matches['id_ours'].unique())\n",
    "n_observations = len(observed_tracks.track_id.unique())\n",
    "n_detections = len(detected_tracks.track_id.unique())\n",
    "\n",
    "H, M, FA = n_ib_match, n_observations - n_ib_match, n_detections - n_our_match\n",
    "POD = H / (H + M)\n",
    "FAR = FA / (H + FA)\n",
    "\n",
    "# POD, FAR, H, M, FA\n",
    "print(f\"Hits : {H}\")\n",
    "print(f\"Misses : {M}\")\n",
    "print(f\"False Alarms : {FA}\")\n",
    "print(f\"POD : {POD}\")\n",
    "print(f\"FAR : {FAR}\")"
   ]
  },
  {
   "cell_type": "markdown",
   "metadata": {},
   "source": [
    "# Save to file"
   ]
  },
  {
   "cell_type": "code",
   "execution_count": 30,
   "metadata": {},
   "outputs": [],
   "source": [
    "columns = [\n",
    "    'model', 'max_distance_detection', 'n_dets', 'n_tp', 'n_obs', 'n_fp', 'n_fn', 'precision', \n",
    "    'recall', 'f2_score', 'min_distance_localization', 'max_distance_localization', \n",
    "    'mean_distance_localization', 'median_distance_localization', 'min_track_count', \n",
    "    'max_distance_tracking', 'min_wind_speed', 'max_track_distance_matching', \n",
    "    'max_track_distance_tracking', 'H', 'M', 'FA', 'POD', 'FAR', 'ibtracs_src', 'test_years', \n",
    "]\n",
    "dst = f'/ceph/hpc/home/ciangottinid/ml-tropical-cyclones-detection/data/inference/{selected_model}/results_analysis.csv'\n",
    "\n",
    "if os.path.exists(dst):\n",
    "    results = pd.read_csv(dst, index_col=0)\n",
    "else:\n",
    "    results = pd.DataFrame(columns=columns)\n",
    "\n",
    "results = pd.concat([results, pd.DataFrame(data={\n",
    "    'model': [selected_model], 'max_distance_detection': [max_distance_detection], 'n_dets': [n_dets], 'n_tp': [n_tp], \n",
    "    'n_obs': [n_obs], 'n_fp': [n_fp], 'n_fn': [n_fn], 'precision': [precision], 'recall': [recall], \n",
    "    'f2_score': [f2_score], 'min_distance_localization': [min_distance_localization], 'max_distance_localization': [max_distance_localization], \n",
    "    'mean_distance_localization': [mean_distance_localization], 'median_distance_localization': [median_distance_localization], \n",
    "    'min_track_count': [min_track_count], 'max_distance_tracking': [max_track_distance_tracking], 'min_wind_speed': [min_wind_speed], \n",
    "    'max_track_distance_matching': [max_track_distance_matching], 'max_track_distance_tracking': [max_track_distance_tracking], \n",
    "    'H': [H], 'M': [M], 'FA': [FA], 'POD': [POD], 'FAR': [FAR], 'ibtracs_src': [ibtracs_src], 'test_years': [test_years], \n",
    "})])\n",
    "\n",
    "results = results.reset_index(drop=True)\n",
    "results.to_csv(dst)"
   ]
  },
  {
   "cell_type": "markdown",
   "metadata": {},
   "source": [
    "# Paper Results\n",
    "\n",
    "In the paper, with the ML ensemble we have the following results:\n",
    "\n",
    "- F2-score : 53 %\n",
    "- Euclidean distance : 117.06 km\n",
    "- Hit rate : 88.91 %\n",
    "- POD : 71.49 %\n",
    "- FAR : 23.00 %"
   ]
  }
 ],
 "metadata": {
  "kernelspec": {
   "display_name": "Python 3 (ipykernel)",
   "language": "python",
   "name": "python3"
  },
  "language_info": {
   "codemirror_mode": {
    "name": "ipython",
    "version": 3
   },
   "file_extension": ".py",
   "mimetype": "text/x-python",
   "name": "python",
   "nbconvert_exporter": "python",
   "pygments_lexer": "ipython3",
   "version": "3.10.11"
  }
 },
 "nbformat": 4,
 "nbformat_minor": 4
}
