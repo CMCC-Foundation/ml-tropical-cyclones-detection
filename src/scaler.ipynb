{
 "cells": [
  {
   "cell_type": "code",
   "execution_count": null,
   "metadata": {},
   "outputs": [],
   "source": [
    "import xarray as xr\n",
    "import numpy as np\n",
    "import logging\n",
    "import glob\n",
    "import os\n",
    "import toml\n",
    "\n",
    "from info import train_years as years"
   ]
  },
  {
   "cell_type": "code",
   "execution_count": null,
   "metadata": {},
   "outputs": [],
   "source": [
    "# initialize logger\n",
    "logging_level = logging.INFO\n",
    "logging.basicConfig(format=\"[%(asctime)s] %(levelname)s : %(message)s\", level=logging_level, datefmt='%Y-%m-%d %H:%M:%S')\n",
    "logging.info(f'Program started')"
   ]
  },
  {
   "cell_type": "code",
   "execution_count": null,
   "metadata": {},
   "outputs": [],
   "source": [
    "# config file\n",
    "config = toml.load(\"./config/cnns.toml\")\n",
    "# data directories\n",
    "data_dir = '../data/'\n",
    "datasets_dir = os.path.join(data_dir, 'patches', 'train')\n",
    "scaler_dir = os.path.join(data_dir, 'patches')\n",
    "os.makedirs(scaler_dir, exist_ok=True)"
   ]
  },
  {
   "cell_type": "code",
   "execution_count": null,
   "metadata": {},
   "outputs": [],
   "source": [
    "# set the data pattern to retrieve the data from the disk\n",
    "dataset_pattern_dir = os.path.join(datasets_dir, '*.zarr')"
   ]
  },
  {
   "cell_type": "code",
   "execution_count": null,
   "metadata": {},
   "outputs": [],
   "source": [
    "# define scaler filename\n",
    "scaler_filename = f'scaler_{years[0]}_{years[-1]}.nc'\n",
    "scaler_path = os.path.join(scaler_dir, scaler_filename)\n",
    "scaler_path"
   ]
  },
  {
   "cell_type": "code",
   "execution_count": null,
   "metadata": {},
   "outputs": [],
   "source": [
    "# get all the filenames in the directory\n",
    "files = sorted(glob.glob(dataset_pattern_dir))\n",
    "\n",
    "# define drivers to scale\n",
    "drivers = config[\"data\"][\"drivers\"]\n",
    "\n",
    "# log\n",
    "files[:5]"
   ]
  },
  {
   "cell_type": "code",
   "execution_count": null,
   "metadata": {},
   "outputs": [],
   "source": [
    "data = np.empty(shape=(len(drivers), 0, 40, 40))\n",
    "for file in files:\n",
    "    # log\n",
    "    logging.info(f'   {file}')\n",
    "    x = xr.open_zarr(file)[drivers].to_array().load()\n",
    "    data = np.concatenate((data, x), axis=1)"
   ]
  },
  {
   "cell_type": "code",
   "execution_count": null,
   "metadata": {},
   "outputs": [],
   "source": [
    "data.shape"
   ]
  },
  {
   "cell_type": "code",
   "execution_count": null,
   "metadata": {},
   "outputs": [],
   "source": [
    "data_mean = np.nanmean(data, axis=(1,2,3))\n",
    "data_mean"
   ]
  },
  {
   "cell_type": "code",
   "execution_count": null,
   "metadata": {},
   "outputs": [],
   "source": [
    "data_std = np.nanstd(data, axis=(1,2,3))\n",
    "data_std"
   ]
  },
  {
   "cell_type": "code",
   "execution_count": null,
   "metadata": {},
   "outputs": [],
   "source": [
    "scaler_ds = xr.Dataset(data_vars={})\n",
    "for v,var in enumerate(drivers):\n",
    "    scaler_ds[f'mean-{var}'] = data_mean[v]\n",
    "    scaler_ds[f'std-{var}'] = data_std[v]\n",
    "scaler_ds"
   ]
  },
  {
   "cell_type": "code",
   "execution_count": null,
   "metadata": {},
   "outputs": [],
   "source": [
    "# store to disk as netcdf\n",
    "scaler_ds.to_netcdf(scaler_path)"
   ]
  }
 ],
 "metadata": {
  "kernelspec": {
   "display_name": "fmlenv",
   "language": "python",
   "name": "python3"
  },
  "language_info": {
   "codemirror_mode": {
    "name": "ipython",
    "version": 3
   },
   "file_extension": ".py",
   "mimetype": "text/x-python",
   "name": "python",
   "nbconvert_exporter": "python",
   "pygments_lexer": "ipython3",
   "version": "3.11.2"
  }
 },
 "nbformat": 4,
 "nbformat_minor": 2
}
