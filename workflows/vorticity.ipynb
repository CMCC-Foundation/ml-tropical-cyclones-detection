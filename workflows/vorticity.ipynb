{
 "cells": [
  {
   "cell_type": "code",
   "execution_count": null,
   "id": "ccaae31e-641d-40fe-b1e6-834b45307b69",
   "metadata": {},
   "outputs": [],
   "source": [
    "from vorticity import vorticity"
   ]
  },
  {
   "cell_type": "code",
   "execution_count": null,
   "id": "719ab90d-cbd7-4ab6-84c6-45c50a6831fa",
   "metadata": {},
   "outputs": [],
   "source": [
    "vorticity()"
   ]
  }
 ],
 "metadata": {
  "kernelspec": {
   "display_name": "Python 3 (ipykernel)",
   "language": "python",
   "name": "python3"
  },
  "language_info": {
   "codemirror_mode": {
    "name": "ipython",
    "version": 3
   },
   "file_extension": ".py",
   "mimetype": "text/x-python",
   "name": "python",
   "nbconvert_exporter": "python",
   "pygments_lexer": "ipython3",
   "version": "3.12.11"
  }
 },
 "nbformat": 4,
 "nbformat_minor": 5
}
